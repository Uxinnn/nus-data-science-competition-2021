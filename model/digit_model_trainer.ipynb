{
 "cells": [
  {
   "cell_type": "markdown",
   "metadata": {},
   "source": [
    "### Training Model\n",
    "Code used to create hand writing predictor model."
   ]
  },
  {
   "cell_type": "code",
   "execution_count": 1,
   "metadata": {},
   "outputs": [],
   "source": [
    "import cv2 as cv\n",
    "import numpy as np\n",
    "import matplotlib.pyplot as plt\n",
    "from random import randint\n",
    "\n",
    "from tensorflow.keras.datasets import mnist\n",
    "from tensorflow.keras.utils import to_categorical\n",
    "from tensorflow.keras.models import Sequential\n",
    "from tensorflow.keras.layers import Conv2D, MaxPooling2D, Dense, Flatten\n",
    "from tensorflow.keras.optimizers import SGD"
   ]
  },
  {
   "cell_type": "code",
   "execution_count": 2,
   "metadata": {},
   "outputs": [],
   "source": [
    "def load_dataset():\n",
    "    # load dataset\n",
    "    (train_x, train_y), (testX, testY) = mnist.load_data()\n",
    "\n",
    "    train_x = train_x.reshape((train_x.shape[0], 28, 28, 1))\n",
    "    testX = testX.reshape((testX.shape[0], 28, 28, 1))\n",
    "    # one hot encode targets\n",
    "    train_y = to_categorical(train_y)\n",
    "    testY = to_categorical(testY)\n",
    "    trainX = train_x[:1000]\n",
    "    trainY = train_y[:1000]\n",
    "    testX = testX[:300]\n",
    "    testY = testY[:300]\n",
    "    return trainX, trainY, testX, testY\n",
    "\n",
    "# scale pixels\n",
    "def prep_pixels(train, test):\n",
    "    train_norm = train.astype('float32')\n",
    "    test_norm = test.astype('float32')\n",
    "    # normalize to range 0-1\n",
    "    train_norm = train_norm / 255.0\n",
    "    test_norm = test_norm / 255.0\n",
    "\n",
    "    return train_norm, test_norm\n",
    "\n",
    "def define_model():\n",
    "    global model\n",
    "    model = Sequential()\n",
    "    model.add(Conv2D(32, (3, 3), activation='relu', kernel_initializer='he_uniform', input_shape=(28, 84, 1)))\n",
    "    model.add(MaxPooling2D((2, 2)))\n",
    "    model.add(Conv2D(64, (3, 3), activation='relu', kernel_initializer='he_uniform'))\n",
    "    model.add(Conv2D(64, (3, 3), activation='relu', kernel_initializer='he_uniform'))\n",
    "    model.add(MaxPooling2D((2, 2)))\n",
    "    model.add(Flatten())\n",
    "    model.add(Dense(100, activation='relu', kernel_initializer='he_uniform'))\n",
    "    model.add(Dense(1000, activation='softmax'))\n",
    "    # compile model\n",
    "    opt = SGD(lr=0.01, momentum=0.9)\n",
    "    model.compile(optimizer=opt, loss='categorical_crossentropy', metrics=['accuracy'])\n",
    "    return model\n",
    "\n",
    "# Run model fitting\n",
    "def run_model():\n",
    "    trainX, trainY, testX, testY = new_trainX, new_trainY, new_testX, new_testY\n",
    "    # prepare pixel data\n",
    "    trainX, testX = prep_pixels(trainX, testX)\n",
    "    # define model\n",
    "    model = define_model()\n",
    "    # fit model\n",
    "    model.fit(trainX, trainY, epochs=5, batch_size=32, verbose=1)"
   ]
  },
  {
   "cell_type": "code",
   "execution_count": 3,
   "metadata": {},
   "outputs": [],
   "source": [
    "# Load data\n",
    "trainX, trainY, testX, testY = load_dataset()"
   ]
  },
  {
   "cell_type": "code",
   "execution_count": 4,
   "metadata": {},
   "outputs": [],
   "source": [
    "# Create new trainX, trainY, testX, testY datasets\n",
    "new_trainY = np.zeros((15000, 1000))\n",
    "new_trainX = np.zeros((15000, 28, 84, 1))\n",
    "new_testY = np.zeros((4500, 1000))\n",
    "new_testX = np.zeros((4500, 28, 84, 1))"
   ]
  },
  {
   "cell_type": "code",
   "execution_count": 5,
   "metadata": {},
   "outputs": [],
   "source": [
    "# Fill new train and test datatsets with numbers ranging from 0 to 999 by horizontally concatenating mnist digits together.\n",
    "for idx in range(5000):\n",
    "    i = randint(0, 999)\n",
    "    x_entry = trainX[i].reshape((28, 28, 1))\n",
    "    x_entry = cv.resize(x_entry, (84, 28)).reshape((28, 84, 1))\n",
    "    y_index = np.where(trainY[i] == 1)[0][0]\n",
    "    new_trainX[idx] = x_entry\n",
    "    new_trainY[idx][y_index] = 1\n",
    "\n",
    "for idx in range(5000, 10000):\n",
    "    i = randint(0, 999)\n",
    "    j = randint(0, 999)\n",
    "    x_entry = cv.hconcat([trainX[i], trainX[j]]).reshape((28, 56, 1))\n",
    "    x_entry = cv.resize(x_entry, (84, 28)).reshape((28, 84, 1))\n",
    "    y_index = np.where(trainY[i] == 1)[0][0]*10 + np.where(trainY[j] == 1)[0][0]\n",
    "    new_trainX[idx] = x_entry\n",
    "    new_trainY[idx][y_index] = 1\n",
    "    \n",
    "for idx in range(10000, 15000):\n",
    "    i = randint(0, 999)\n",
    "    j = randint(0, 999)\n",
    "    k = randint(0, 999)\n",
    "    x_entry = cv.hconcat([trainX[i], trainX[j], trainX[k]]).reshape((28, 84, 1))\n",
    "    x_entry = cv.resize(x_entry, (84, 28)).reshape((28, 84, 1))\n",
    "    y_index = np.where(trainY[i] == 1)[0][0]*100 + np.where(trainY[j] == 1)[0][0]*10 + np.where(trainY[k] == 1)[0][0]\n",
    "    new_trainX[idx] = x_entry\n",
    "    new_trainY[idx][y_index] = 1\n",
    "    \n",
    "for idx in range(1500):\n",
    "    i = randint(0, 299)\n",
    "    x_entry = testX[i].reshape((28, 28, 1))\n",
    "    x_entry = cv.resize(x_entry, (84, 28)).reshape((28, 84, 1))\n",
    "    y_index = np.where(testY[i] == 1)[0][0]\n",
    "    new_testX[idx] = x_entry\n",
    "    new_testY[idx][y_index] = 1\n",
    "\n",
    "for idx in range(1500, 3000):\n",
    "    i = randint(0, 299)\n",
    "    j = randint(0, 299)\n",
    "    x_entry = cv.hconcat([testX[i], testX[j]]).reshape((28, 56, 1))\n",
    "    x_entry = cv.resize(x_entry, (84, 28)).reshape((28, 84, 1))\n",
    "    y_index = np.where(testY[i] == 1)[0][0]*10 + np.where(testY[j] == 1)[0][0]\n",
    "    new_testX[idx] = x_entry\n",
    "    new_testY[idx][y_index] = 1\n",
    "    \n",
    "for idx in range(3000, 4500):\n",
    "    i = randint(0, 299)\n",
    "    j = randint(0, 299)\n",
    "    k = randint(0, 299)\n",
    "    x_entry = cv.hconcat([testX[i], testX[j], testX[k]]).reshape((28, 84, 1))\n",
    "    x_entry = cv.resize(x_entry, (84, 28)).reshape((28, 84, 1))\n",
    "    y_index = np.where(testY[i] == 1)[0][0]*100 + np.where(testY[j] == 1)[0][0]*10 + np.where(testY[k] == 1)[0][0]\n",
    "    new_testX[idx] = x_entry\n",
    "    new_testY[idx][y_index] = 1"
   ]
  },
  {
   "cell_type": "code",
   "execution_count": 24,
   "metadata": {},
   "outputs": [
    {
     "name": "stdout",
     "output_type": "stream",
     "text": [
      "Epoch 1/5\n",
      "469/469 [==============================] - 42s 89ms/step - loss: 3.3481 - accuracy: 0.4151\n",
      "Epoch 2/5\n",
      "469/469 [==============================] - 60s 127ms/step - loss: 2.1155 - accuracy: 0.6274\n",
      "Epoch 3/5\n",
      "469/469 [==============================] - 41s 88ms/step - loss: 1.3164 - accuracy: 0.7179\n",
      "Epoch 4/5\n",
      "469/469 [==============================] - 44s 94ms/step - loss: 0.7199 - accuracy: 0.8156\n",
      "Epoch 5/5\n",
      "469/469 [==============================] - 38s 80ms/step - loss: 0.4184 - accuracy: 0.8821\n"
     ]
    }
   ],
   "source": [
    "run_model()"
   ]
  },
  {
   "cell_type": "code",
   "execution_count": 25,
   "metadata": {},
   "outputs": [
    {
     "name": "stdout",
     "output_type": "stream",
     "text": [
      "36/36 [==============================] - 3s 74ms/step - loss: 207.3194 - accuracy: 0.7440\n"
     ]
    }
   ],
   "source": [
    "results = model.evaluate(new_testX, new_testY, batch_size=128)"
   ]
  },
  {
   "cell_type": "code",
   "execution_count": 26,
   "metadata": {},
   "outputs": [],
   "source": [
    "ret = model.predict(new_testX)"
   ]
  },
  {
   "cell_type": "code",
   "execution_count": null,
   "metadata": {},
   "outputs": [],
   "source": []
  },
  {
   "cell_type": "markdown",
   "metadata": {},
   "source": [
    "### Test predictions of handwritten numbers using train images"
   ]
  },
  {
   "cell_type": "code",
   "execution_count": null,
   "metadata": {},
   "outputs": [],
   "source": [
    "from tensorflow import keras"
   ]
  },
  {
   "cell_type": "code",
   "execution_count": 30,
   "metadata": {},
   "outputs": [],
   "source": [
    "# Function to find ROI of handwritten number in an image\n",
    "def handwritingExtract(file_path):\n",
    "    img = plt.imread(file_path)\n",
    "    hsv = cv.cvtColor(img, cv.COLOR_BGR2HSV)\n",
    "    h, s, v = cv.split(hsv)\n",
    "    inverted = s\n",
    "\n",
    "    ret, th = cv.threshold(inverted, 150, 255, cv.THRESH_BINARY + cv.THRESH_OTSU)\n",
    "    dilateKernel = np.ones((1, 30), np.uint8)\n",
    "    dilated = cv.dilate(th, dilateKernel)\n",
    "    contours, hierarchy = cv.findContours(dilated, cv.RETR_EXTERNAL, cv.CHAIN_APPROX_SIMPLE)\n",
    "    imgShape = img.shape\n",
    "    validContours = []\n",
    "    for contour in contours:\n",
    "        area = cv.contourArea(contour)\n",
    "        x, y, w, h = cv.boundingRect(contour)\n",
    "        if area > 100 and (y > 0.80 * imgShape[0] or y + h < 0.20 * imgShape[0]):\n",
    "            validContours.append(contour)\n",
    "\n",
    "    contourImg = np.copy(img)\n",
    "    cv.drawContours(contourImg, validContours, -1, (0, 255, 0), 3)\n",
    "    cv.line(contourImg, (0, int(0.8 * imgShape[0])), (imgShape[1], int(0.8 * imgShape[0])), (255, 0, 0))\n",
    "    cv.line(contourImg, (0, int(0.2 * imgShape[0])), (imgShape[1], int(0.2 * imgShape[0])), (255, 0, 0))\n",
    "\n",
    "    candidates = []\n",
    "    for contour in validContours:\n",
    "        x, y, w, h = cv.boundingRect(contour)\n",
    "        candidate = img[y:y+h, x:x+w]\n",
    "        candidates.append(candidate)\n",
    "\n",
    "    return candidates"
   ]
  },
  {
   "cell_type": "code",
   "execution_count": 38,
   "metadata": {},
   "outputs": [],
   "source": [
    "# Load an image\n",
    "candidates = handwritingExtract(r\"C:\\Users\\Asus\\Downloads\\nus-sds-dsc2021\\train_data\\train_images\\1051.jpg\")"
   ]
  },
  {
   "cell_type": "code",
   "execution_count": 64,
   "metadata": {},
   "outputs": [],
   "source": [
    "# Assumes correct contour containing number is the last contour, then resize it\n",
    "digit_img = cv.resize(cv.cvtColor(candidates[-1], cv.COLOR_BGR2GRAY),(84, 28)).reshape((28, 84, 1))"
   ]
  },
  {
   "cell_type": "code",
   "execution_count": 89,
   "metadata": {},
   "outputs": [
    {
     "data": {
      "text/plain": [
       "40"
      ]
     },
     "execution_count": 89,
     "metadata": {},
     "output_type": "execute_result"
    }
   ],
   "source": [
    "# Get predicted value from model\n",
    "np.where(model.predict(np.array([digit_img]))[0] == 1)[0][0]"
   ]
  },
  {
   "cell_type": "code",
   "execution_count": 76,
   "metadata": {},
   "outputs": [],
   "source": [
    "# Save model for future use\n",
    "model.save('final_model.h5')"
   ]
  },
  {
   "cell_type": "code",
   "execution_count": 83,
   "metadata": {},
   "outputs": [],
   "source": [
    "# Loads a saved model\n",
    "model = keras.models.load_model(r\"C:\\Users\\Asus\\Documents\\nus-data-science-comp-cv\\notebook\\final_model.h5\")"
   ]
  }
 ],
 "metadata": {
  "kernelspec": {
   "display_name": "Python [conda env:root] *",
   "language": "python",
   "name": "conda-root-py"
  },
  "language_info": {
   "codemirror_mode": {
    "name": "ipython",
    "version": 3
   },
   "file_extension": ".py",
   "mimetype": "text/x-python",
   "name": "python",
   "nbconvert_exporter": "python",
   "pygments_lexer": "ipython3",
   "version": "3.7.6"
  }
 },
 "nbformat": 4,
 "nbformat_minor": 4
}
