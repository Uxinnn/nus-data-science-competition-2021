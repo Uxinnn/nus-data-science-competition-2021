{
 "cells": [
  {
   "cell_type": "code",
   "execution_count": 1,
   "metadata": {},
   "outputs": [],
   "source": [
    "import cv2 as cv\n",
    "import os\n",
    "import numpy as np\n",
    "import pandas as pd\n",
    "import matplotlib.pyplot as plt\n",
    "from helper_functions import read_imgs, get_bounding_rect_coor"
   ]
  },
  {
   "cell_type": "code",
   "execution_count": null,
   "metadata": {},
   "outputs": [],
   "source": [
    "def handwritingExtract(file_path):\n",
    "    img = plt.imread(file_path)\n",
    "#     cv.imshow(\"Original\", img)\n",
    "#     cv.waitKey(0)\n",
    "    hsv = cv.cvtColor(img, cv.COLOR_BGR2HSV)\n",
    "    h, s, v = cv.split(hsv)\n",
    "#     cv.imshow(\"s\", s)\n",
    "#     cv.waitKey(0)\n",
    "    # inverted = cv.bitwise_not(s)\n",
    "    # cv.imshow(\"Inverted\", inverted)\n",
    "    inverted = s\n",
    "\n",
    "    ret, th = cv.threshold(inverted, 150, 255, cv.THRESH_BINARY + cv.THRESH_OTSU)\n",
    "#     cv.imshow(\"Threshold\", th)\n",
    "#     cv.waitKey(0)\n",
    "    # closeKernel = np.ones((10, 10), np.uint8)\n",
    "    # closed = cv.morphologyEx(th, cv.MORPH_CLOSE, closeKernel, iterations=1)\n",
    "    dilateKernel = np.ones((1, 30), np.uint8)\n",
    "    dilated = cv.dilate(th, dilateKernel)\n",
    "#     cv.imshow(\"Dilated\", dilated)\n",
    "    contours, hierarchy = cv.findContours(dilated, cv.RETR_EXTERNAL, cv.CHAIN_APPROX_SIMPLE)\n",
    "    imgShape = img.shape\n",
    "    validContours = []\n",
    "    for contour in contours:\n",
    "        area = cv.contourArea(contour)\n",
    "        x, y, w, h = cv.boundingRect(contour)\n",
    "        if area > 100 and (y > 0.80 * imgShape[0] or y + h < 0.20 * imgShape[0]):\n",
    "            validContours.append(contour)\n",
    "\n",
    "    contourImg = np.copy(img)\n",
    "    cv.drawContours(contourImg, validContours, -1, (0, 255, 0), 3)\n",
    "    cv.line(contourImg, (0, int(0.8 * imgShape[0])), (imgShape[1], int(0.8 * imgShape[0])), (255, 0, 0))\n",
    "    cv.line(contourImg, (0, int(0.2 * imgShape[0])), (imgShape[1], int(0.2 * imgShape[0])), (255, 0, 0))\n",
    "#     cv.imshow(\"Contours\", contourImg)\n",
    "#     cv.waitKey(0)\n",
    "\n",
    "    candidates = []\n",
    "    for contour in validContours:\n",
    "        x, y, w, h = cv.boundingRect(contour)\n",
    "        candidate = img[y:y+h, x:x+w]\n",
    "        candidates.append(candidate)\n",
    "#         cv.imshow(\"candidate\", candidate)\n",
    "#         cv.waitKey(0)\n",
    "#     cv.destroyAllWindows()\n",
    "    return candidates"
   ]
  },
  {
   "cell_type": "code",
   "execution_count": null,
   "metadata": {},
   "outputs": [],
   "source": [
    "candidates = handwritingExtract(r\"C:\\Users\\Asus\\Downloads\\nus-sds-dsc2021\\train_data\\train_images\\1063.jpg\")"
   ]
  },
  {
   "cell_type": "code",
   "execution_count": null,
   "metadata": {},
   "outputs": [],
   "source": [
    "for candidate in candidates:\n",
    "    cv.imshow(\"candidate\", candidate)\n",
    "    cv.waitKey(0)\n",
    "    cv.destroyAllWindows()"
   ]
  },
  {
   "cell_type": "code",
   "execution_count": null,
   "metadata": {},
   "outputs": [],
   "source": [
    "digit_img = cv.resize(cv.cvtColor(candidates[-1], cv.COLOR_BGR2GRAY),(200, 200))"
   ]
  },
  {
   "cell_type": "code",
   "execution_count": null,
   "metadata": {},
   "outputs": [],
   "source": [
    "hist = cv.calcHist([digit_img],[0],None,[10],[0,256])\n",
    "hist"
   ]
  },
  {
   "cell_type": "code",
   "execution_count": null,
   "metadata": {},
   "outputs": [],
   "source": [
    "# 1034, 375\n",
    "plt.hist(digit_img.ravel(),10,[0,256]); plt.show()\n",
    "cv.imshow(\"candidate\", digit_img)\n",
    "cv.waitKey(0)\n",
    "cv.destroyAllWindows()"
   ]
  },
  {
   "cell_type": "code",
   "execution_count": null,
   "metadata": {},
   "outputs": [],
   "source": [
    "cv.imshow(\"candidate\", digit_img)\n",
    "cv.waitKey(0)\n",
    "cv.destroyAllWindows()"
   ]
  },
  {
   "cell_type": "code",
   "execution_count": null,
   "metadata": {},
   "outputs": [],
   "source": [
    "img_dict = read_imgs(r\"C:\\Users\\Asus\\Downloads\\nus-sds-dsc2021\\train_data\\train_images\")"
   ]
  },
  {
   "cell_type": "code",
   "execution_count": null,
   "metadata": {},
   "outputs": [],
   "source": [
    "# 32 for merge issue\n",
    "img = cv.resize(img_dict[1002].copy(), (396, 549))\n",
    "count = 0\n",
    "\n",
    "lab= cv.cvtColor(img, cv.COLOR_BGR2LAB)\n",
    "l, a, b = cv.split(lab)\n",
    "\n",
    "# ret, th = cv.threshold(b, 135, 255, cv.THRESH_BINARY);\n",
    "ret, th = cv.threshold(b, 0, 255, cv.THRESH_OTSU);\n",
    "\n",
    "contours, hierarchy = cv.findContours(th, mode=cv.RETR_TREE, method=cv.CHAIN_APPROX_SIMPLE)\n",
    "mask = np.zeros_like(img)\n",
    "\n",
    "for cnt in contours:\n",
    "    approx = cv.approxPolyDP(cnt, 0.01 * cv.arcLength(cnt, True), True)\n",
    "    area = cv.contourArea(approx)\n",
    "    if 150 < area:\n",
    "        cv.drawContours(mask, [approx], -1, (0, 255, 0), 1)\n",
    "        count += area//100\n",
    "    elif 50 < area < 150:\n",
    "        cv.drawContours(mask, [approx], -1, (0, 0, 255), 1)\n",
    "        count += 1\n",
    "    else:\n",
    "        cv.drawContours(mask, [approx], -1, (255, 0, 0), 1)\n",
    "\n",
    "min_x, min_y, max_x, max_y = get_bounding_rect_coor(contours)\n",
    "mask = cv.rectangle(mask, (min_x, min_y), (max_x, max_y), (0, 255, 0), 2) \n",
    "\n",
    "\n",
    "print(count)"
   ]
  },
  {
   "cell_type": "code",
   "execution_count": null,
   "metadata": {},
   "outputs": [],
   "source": [
    "th = cv.cvtColor(th, cv.COLOR_GRAY2BGR)\n",
    "b = cv.cvtColor(b, cv.COLOR_GRAY2BGR)\n",
    "cv.imshow(\"window\", cv.hconcat([th, img, mask]))\n",
    "# cv.imshow(\"window\", mask)\n",
    "cv.waitKey(0)\n",
    "cv.destroyAllWindows()"
   ]
  },
  {
   "cell_type": "code",
   "execution_count": null,
   "metadata": {},
   "outputs": [],
   "source": [
    "th = cv.bitwise_not(th)\n",
    "im = cv.bitwise_and(img, img, mask=th)\n",
    "lab= cv.cvtColor(im, cv.COLOR_BGR2LAB)\n",
    "l, a, b = cv.split(lab)\n",
    "ret, th = cv.threshold(b, 0, 255, cv.THRESH_OTSU);\n",
    "th = cv.bitwise_not(th)\n",
    "contours, hierarchy = cv.findContours(th, mode=cv.RETR_TREE, method=cv.CHAIN_APPROX_SIMPLE)\n",
    "contours = [cnt for cnt in contours if cv.contourArea(cnt) < 1000]\n",
    "\n",
    "mask = np.zeros_like(img)\n",
    "    \n",
    "cv.drawContours(mask, contours, -1, (0, 255, 0), 1)\n",
    "\n",
    "th = cv.cvtColor(th, cv.COLOR_GRAY2BGR)\n",
    "b = cv.cvtColor(b, cv.COLOR_GRAY2BGR)\n",
    "min_x, min_y, max_x, max_y = get_bounding_rect_coor(contours)\n",
    "mask = cv.rectangle(mask, (min_x, min_y), (max_x, max_y), (255, 255, 255), 1)\n",
    "roi = cv.resize(img[min_y:max_y, min_x:max_x], (200,200))\n",
    "cropped_mask = cv.resize(mask[min_y:max_y, min_x:max_x], (200,200))"
   ]
  },
  {
   "cell_type": "code",
   "execution_count": null,
   "metadata": {},
   "outputs": [],
   "source": [
    "cv.imshow(\"window\", th)\n",
    "# cv.imshow(\"window\", mask)\n",
    "cv.waitKey(0)\n",
    "cv.destroyAllWindows()"
   ]
  },
  {
   "cell_type": "code",
   "execution_count": null,
   "metadata": {},
   "outputs": [],
   "source": []
  },
  {
   "cell_type": "code",
   "execution_count": 6,
   "metadata": {},
   "outputs": [],
   "source": [
    "from random import randint"
   ]
  },
  {
   "cell_type": "code",
   "execution_count": 9,
   "metadata": {},
   "outputs": [
    {
     "name": "stdout",
     "output_type": "stream",
     "text": [
      "Epoch 1/5\n",
      "469/469 [==============================] - 42s 90ms/step - loss: 3.3244 - accuracy: 0.4217\n",
      "Epoch 2/5\n",
      "469/469 [==============================] - 49s 105ms/step - loss: 2.0229 - accuracy: 0.6383\n",
      "Epoch 3/5\n",
      "469/469 [==============================] - 47s 101ms/step - loss: 1.1534 - accuracy: 0.7428\n",
      "Epoch 4/5\n",
      "469/469 [==============================] - 47s 101ms/step - loss: 0.6046 - accuracy: 0.8371\n",
      "Epoch 5/5\n",
      "469/469 [==============================] - 47s 100ms/step - loss: 0.3336 - accuracy: 0.9033\n"
     ]
    }
   ],
   "source": [
    "# save the final model to file\n",
    "from tensorflow.keras.datasets import mnist\n",
    "from tensorflow.keras.utils import to_categorical\n",
    "from tensorflow.keras.models import Sequential\n",
    "from tensorflow.keras.layers import Conv2D\n",
    "from tensorflow.keras.layers import MaxPooling2D\n",
    "from tensorflow.keras.layers import Dense\n",
    "from tensorflow.keras.layers import Flatten\n",
    "from tensorflow.keras.optimizers import SGD\n",
    "\n",
    "# load train and test dataset\n",
    "def load_dataset():\n",
    "    global extraX\n",
    "    global extraY\n",
    "    # load dataset\n",
    "    (train_x, train_y), (testX, testY) = mnist.load_data()\n",
    "    # reshape dataset to have a single channel\n",
    "    train_x = train_x.reshape((train_x.shape[0], 28, 28, 1))\n",
    "    testX = testX.reshape((testX.shape[0], 28, 28, 1))\n",
    "    # one hot encode target values\n",
    "    train_y = to_categorical(train_y)\n",
    "    testY = to_categorical(testY)\n",
    "    trainX = train_x[:1000]\n",
    "    trainY = train_y[:1000]\n",
    "    testX = testX[:300]\n",
    "    testY = testY[:300]\n",
    "    extraX = train_x[1000:1100]\n",
    "    extraY = train_y[1000:1100]\n",
    "    return trainX, trainY, testX, testY\n",
    "\n",
    "# scale pixels\n",
    "def prep_pixels(train, test):\n",
    "    # convert from integers to floats\n",
    "    train_norm = train.astype('float32')\n",
    "    test_norm = test.astype('float32')\n",
    "    # normalize to range 0-1\n",
    "    train_norm = train_norm / 255.0\n",
    "    test_norm = test_norm / 255.0\n",
    "    # return normalized images\n",
    "    return train_norm, test_norm\n",
    "\n",
    "# define cnn model\n",
    "def define_model():\n",
    "    global model\n",
    "    model = Sequential()\n",
    "    model.add(Conv2D(32, (3, 3), activation='relu', kernel_initializer='he_uniform', input_shape=(28, 84, 1)))\n",
    "    model.add(MaxPooling2D((2, 2)))\n",
    "    model.add(Conv2D(64, (3, 3), activation='relu', kernel_initializer='he_uniform'))\n",
    "    model.add(Conv2D(64, (3, 3), activation='relu', kernel_initializer='he_uniform'))\n",
    "    model.add(MaxPooling2D((2, 2)))\n",
    "    model.add(Flatten())\n",
    "    model.add(Dense(100, activation='relu', kernel_initializer='he_uniform'))\n",
    "    model.add(Dense(1000, activation='softmax'))\n",
    "    # compile model\n",
    "    opt = SGD(lr=0.01, momentum=0.9)\n",
    "    model.compile(optimizer=opt, loss='categorical_crossentropy', metrics=['accuracy'])\n",
    "    return model\n",
    "\n",
    "# run the test harness for evaluating a model\n",
    "def run_test_harness():\n",
    "    # load dataset\n",
    "#     trainX, trainY, testX, testY = load_dataset()\n",
    "    trainX, trainY, testX, testY = new_trainX, new_trainY, new_testX, new_testY\n",
    "    # prepare pixel data\n",
    "    trainX, testX = prep_pixels(trainX, testX)\n",
    "    # define model\n",
    "    model = define_model()\n",
    "    # fit model\n",
    "    model.fit(trainX, trainY, epochs=5, batch_size=32, verbose=1)\n",
    "    # save model\n",
    "#     model.save('final_model.h5')\n",
    "\n",
    "# entry point, run the test harness\n",
    "run_test_harness()"
   ]
  },
  {
   "cell_type": "code",
   "execution_count": 10,
   "metadata": {},
   "outputs": [
    {
     "name": "stdout",
     "output_type": "stream",
     "text": [
      "36/36 [==============================] - 3s 93ms/step - loss: 1661.1499 - accuracy: 0.4736\n"
     ]
    }
   ],
   "source": [
    "results = model.evaluate(new_testX, new_testY, batch_size=128)"
   ]
  },
  {
   "cell_type": "code",
   "execution_count": 11,
   "metadata": {},
   "outputs": [],
   "source": [
    "ret = model.predict(new_testX)"
   ]
  },
  {
   "cell_type": "code",
   "execution_count": 22,
   "metadata": {},
   "outputs": [
    {
     "name": "stdout",
     "output_type": "stream",
     "text": [
      "(array([45], dtype=int64),)\n",
      "(array([48], dtype=int64),)\n"
     ]
    },
    {
     "data": {
      "text/plain": [
       "<matplotlib.image.AxesImage at 0x1f893132188>"
      ]
     },
     "execution_count": 22,
     "metadata": {},
     "output_type": "execute_result"
    },
    {
     "data": {
      "image/png": "[encoded data removed]",
      "text/plain": [
       "<Figure size 432x288 with 1 Axes>"
      ]
     },
     "metadata": {
      "needs_background": "light"
     },
     "output_type": "display_data"
    }
   ],
   "source": [
    "i = 2345\n",
    "print(np.where(ret[i] == 1))\n",
    "print(np.where(new_testY[i] == 1))\n",
    "plt.imshow(new_testX[i])"
   ]
  },
  {
   "cell_type": "code",
   "execution_count": 3,
   "metadata": {},
   "outputs": [],
   "source": [
    "trainX, trainY, testX, testY = load_dataset()"
   ]
  },
  {
   "cell_type": "code",
   "execution_count": 7,
   "metadata": {},
   "outputs": [],
   "source": [
    "new_trainY = np.zeros((15000, 1000))\n",
    "new_trainX = np.zeros((15000, 28, 84, 1))\n",
    "new_testY = np.zeros((4500, 1000))\n",
    "new_testX = np.zeros((4500, 28, 84, 1))"
   ]
  },
  {
   "cell_type": "code",
   "execution_count": 8,
   "metadata": {},
   "outputs": [],
   "source": [
    "for idx in range(5000):\n",
    "    i = randint(0, 999)\n",
    "    x_entry = trainX[i].reshape((28, 28, 1))\n",
    "    x_entry = cv.resize(x_entry, (84, 28)).reshape((28, 84, 1))\n",
    "    y_index = np.where(trainY[i] == 1)[0][0]\n",
    "    new_trainX[idx] = x_entry\n",
    "    new_trainY[idx][y_index] = 1\n",
    "\n",
    "for idx in range(5000, 10000):\n",
    "    i = randint(0, 999)\n",
    "    j = randint(0, 999)\n",
    "    x_entry = cv.hconcat([trainX[i], trainX[j]]).reshape((28, 56, 1))\n",
    "    x_entry = cv.resize(x_entry, (84, 28)).reshape((28, 84, 1))\n",
    "    y_index = np.where(trainY[i] == 1)[0][0]*10 + np.where(trainY[j] == 1)[0][0]\n",
    "    new_trainX[idx] = x_entry\n",
    "    new_trainY[idx][y_index] = 1\n",
    "    \n",
    "for idx in range(10000, 15000):\n",
    "    i = randint(0, 999)\n",
    "    j = randint(0, 999)\n",
    "    k = randint(0, 999)\n",
    "    x_entry = cv.hconcat([trainX[i], trainX[j], trainX[k]]).reshape((28, 84, 1))\n",
    "    x_entry = cv.resize(x_entry, (84, 28)).reshape((28, 84, 1))\n",
    "    y_index = np.where(trainY[i] == 1)[0][0]*100 + np.where(trainY[j] == 1)[0][0]*10 + np.where(trainY[k] == 1)[0][0]\n",
    "    new_trainX[idx] = x_entry\n",
    "    new_trainY[idx][y_index] = 1\n",
    "    \n",
    "for idx in range(1500):\n",
    "    i = randint(0, 299)\n",
    "    x_entry = trainX[i].reshape((28, 28, 1))\n",
    "    x_entry = cv.resize(x_entry, (84, 28)).reshape((28, 84, 1))\n",
    "    y_index = np.where(testY[i] == 1)[0][0]\n",
    "    new_testX[idx] = x_entry\n",
    "    new_testY[idx][y_index] = 1\n",
    "\n",
    "for idx in range(1500, 3000):\n",
    "    i = randint(0, 299)\n",
    "    j = randint(0, 299)\n",
    "    x_entry = cv.hconcat([testX[i], testX[j]]).reshape((28, 56, 1))\n",
    "    x_entry = cv.resize(x_entry, (84, 28)).reshape((28, 84, 1))\n",
    "    y_index = np.where(testY[i] == 1)[0][0]*10 + np.where(testY[j] == 1)[0][0]\n",
    "    new_testX[idx] = x_entry\n",
    "    new_testY[idx][y_index] = 1\n",
    "    \n",
    "for idx in range(3000, 4500):\n",
    "    i = randint(0, 299)\n",
    "    j = randint(0, 299)\n",
    "    k = randint(0, 299)\n",
    "    x_entry = cv.hconcat([testX[i], testX[j], testX[k]]).reshape((28, 84, 1))\n",
    "    x_entry = cv.resize(x_entry, (84, 28)).reshape((28, 84, 1))\n",
    "    y_index = np.where(testY[i] == 1)[0][0]*100 + np.where(testY[j] == 1)[0][0]*10 + np.where(testY[k] == 1)[0][0]\n",
    "    new_testX[idx] = x_entry\n",
    "    new_testY[idx][y_index] = 1"
   ]
  },
  {
   "cell_type": "code",
   "execution_count": null,
   "metadata": {},
   "outputs": [],
   "source": [
    "print(np.where(new_trainY[52] == 1))\n",
    "plt.imshow(new_trainX[52])"
   ]
  },
  {
   "cell_type": "code",
   "execution_count": null,
   "metadata": {},
   "outputs": [],
   "source": [
    "print(np.where(new_testY[2999] == 1))\n",
    "plt.imshow(new_testX[2999])"
   ]
  },
  {
   "cell_type": "code",
   "execution_count": null,
   "metadata": {},
   "outputs": [],
   "source": []
  }
 ],
 "metadata": {
  "kernelspec": {
   "display_name": "Python [conda env:root] *",
   "language": "python",
   "name": "conda-root-py"
  },
  "language_info": {
   "codemirror_mode": {
    "name": "ipython",
    "version": 3
   },
   "file_extension": ".py",
   "mimetype": "text/x-python",
   "name": "python",
   "nbconvert_exporter": "python",
   "pygments_lexer": "ipython3",
   "version": "3.7.6"
  }
 },
 "nbformat": 4,
 "nbformat_minor": 4
}
